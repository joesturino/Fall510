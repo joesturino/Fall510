{
 "cells": [
  {
   "cell_type": "markdown",
   "metadata": {},
   "source": [
    "Problem 1)"
   ]
  },
  {
   "cell_type": "code",
   "execution_count": 9,
   "metadata": {
    "collapsed": false
   },
   "outputs": [
    {
     "name": "stdout",
     "output_type": "stream",
     "text": [
      "*\n",
      "**\n",
      "***\n",
      "****\n",
      "*****\n"
     ]
    }
   ],
   "source": [
    "'''Defined a program called histogram that\n",
    "takes a list and for the length of every item in that\n",
    "list it replaces that numerical value of \n",
    "1 with a \"*\" the sum of the \"*\" should add to \n",
    "the value of the length of the item in the list''' \n",
    "\n",
    "def histogram(list1): \n",
    "\n",
    "    for i in range(len(list1)): #the length of each term in the list is acounted for by a 'i' \n",
    "        print (list1[i]*'*')    #every 'i' accounted for is then made to be the same as '*' \n",
    "\n",
    "List = [1, 2, 3, 4, 5] #defined a list to be translated by the program\n",
    "\n",
    "histogram(List) #runs the program with the designated list\n"
   ]
  },
  {
   "cell_type": "markdown",
   "metadata": {},
   "source": [
    "Problem 2)"
   ]
  },
  {
   "cell_type": "code",
   "execution_count": 21,
   "metadata": {
    "collapsed": false
   },
   "outputs": [
    {
     "data": {
      "text/plain": [
       "102"
      ]
     },
     "execution_count": 21,
     "metadata": {},
     "output_type": "execute_result"
    }
   ],
   "source": [
    "'''Defined a function that sorts a list from low values to high values\n",
    "and then returns the last value i.e the largest value'''\n",
    "\n",
    "def max_in_list(list2):\n",
    " \n",
    "    sortedList = sorted(list2) #built in function that takes a specified list and sorts them from the smallest value to the largest value\n",
    " \n",
    "    return sortedList[-1]   #instructs the function to pull the last item out of the sorted list which is sorted from smallest to largest\n",
    "        \n",
    "list2 = [3,4,88,10, 7, 92, 102] #defined a list\n",
    "\n",
    "max_in_list(list2"
   ]
  },
  {
   "cell_type": "markdown",
   "metadata": {},
   "source": [
    "Problem 3)"
   ]
  },
  {
   "cell_type": "code",
   "execution_count": 46,
   "metadata": {
    "collapsed": false
   },
   "outputs": [
    {
     "name": "stdout",
     "output_type": "stream",
     "text": [
      "[5, 6, 5]\n"
     ]
    }
   ],
   "source": [
    "'''Defined a function to determine the length of a word in a list and kick back\n",
    "the numerical value of that word in the form of a new list labels leth'''\n",
    "\n",
    "def map_to_lengths_lists(words):\n",
    "    leth = []                    #Defined leth as a list that we plan to put all outcomes in after running through the loop\n",
    "    for i in words:             #loop that takes elements of i in the list of words and\n",
    "        leth.append(len(i))     #returns the length of tht word before returning to the next word in the list\n",
    "    return leth                 #once the whole list has been looped through we return the list we defined as the list of all outcomes of the loop\n",
    "        \n",
    "\n",
    "\n",
    "print(map_to_lengths_lists(['lions', 'tigers', 'bears']))\n",
    " "
   ]
  },
  {
   "cell_type": "markdown",
   "metadata": {},
   "source": [
    "Problem 4)"
   ]
  },
  {
   "cell_type": "code",
   "execution_count": 45,
   "metadata": {
    "collapsed": false
   },
   "outputs": [
    {
     "name": "stdout",
     "output_type": "stream",
     "text": [
      "10\n"
     ]
    }
   ],
   "source": [
    "'''Defined a function that takes a list and computes the length of each word in the list and then \n",
    "sorts the lengths from lowest to highest by the built in function len\n",
    "and returns the last element in the new sorted list'''\n",
    "\n",
    "def longest_word(list4):  #defined the function for a list4\n",
    "    length = []           #assigned a variable length to be the place a list dumps its outcomes into after running through the loop for the whole list\n",
    "    for word in list4:\n",
    "        length.append(len(word))  #loops through the list for every element in the list\n",
    "    return (sorted(length)[-1])  #returns the new numerical list in sorted form and only the last element in the sorted form\n",
    "\n",
    "list4 = ['apple', 'battleship', 'grapes']  #defined a list to use in the function\n",
    "    \n",
    "print(longest_word(list4))    \n",
    "    "
   ]
  },
  {
   "cell_type": "markdown",
   "metadata": {},
   "source": [
    "Problem 5)"
   ]
  },
  {
   "cell_type": "code",
   "execution_count": 50,
   "metadata": {
    "collapsed": false
   },
   "outputs": [
    {
     "name": "stdout",
     "output_type": "stream",
     "text": [
      "['wreckingball']\n"
     ]
    }
   ],
   "source": [
    "'''defined a function that takes a list and an integer and returns all words in the list that have more elements \n",
    "than the specified integer value'''\n",
    "\n",
    "def filter_long_words(list5,int1):\n",
    " \n",
    "    words = []\n",
    "    \n",
    "    '''start of a for loop that takes the elements in list5 and \n",
    "    if the numerical value of i which accounts for all letters in the word at hand is greater than the integer value chosen\n",
    "    then it places that word in the empty words list'''\n",
    " \n",
    "    for i in range(len(list5)): \n",
    "        if len(list5[i]) > int1: #this says if the amount of letters in a specified word within the list is greater than the integer chosen then the word is appended into the new empty list\n",
    "            words.append(list5[i]) #append allows the program to loop through every element in the list once before stoping the for loop\n",
    "                                  #placing every true value in the empty 'words' list\n",
    " \n",
    "    return words\n",
    " \n",
    "list5 = ['blueberry', 'mango', 'wreckingball']\n",
    "int1 = 10\n",
    " \n",
    "print ((filter_long_words(list5, int1)))\n"
   ]
  },
  {
   "cell_type": "markdown",
   "metadata": {},
   "source": [
    "# Problem 6)"
   ]
  },
  {
   "cell_type": "code",
   "execution_count": 27,
   "metadata": {
    "collapsed": false
   },
   "outputs": [
    {
     "name": "stdout",
     "output_type": "stream",
     "text": [
      "False\n"
     ]
    }
   ],
   "source": [
    "#brought the regular expressions module in to deal with the strings being used in the program\n",
    "import re\n",
    "\n",
    "'''Defined a function is_palindrome2 that will check entire sentences \n",
    "due to the parameter set as string6 which will be later defined as a string to see if the phrase is a palindrome'''\n",
    "\n",
    "def is_palindrome2(string6):\n",
    "    #here we take the regular expression module and take out all elements in string6 that are NOT a-z, A-Z or 0-9\n",
    "    string6 = re.sub('[^a-zA-Z0-9]','',string6)\n",
    "    #then we take the new string6 with no special characters and reverse it \n",
    "    revstr6 = string6[::-1] \n",
    "\n",
    "    #comparing the reversed string in all lowercase characters to the original\n",
    "    if string6.lower() == revstr6.lower():\n",
    "            return True #if they are the same the program will interpret the sentence as true\n",
    "    else:\n",
    "         return False\n",
    "\n",
    "\n",
    "string6 = \"Was it a rat I saw?\" #defined string six\n",
    "\n",
    "if (is_palindrome(string6)): #simple logic to print true if the program being called by print returns a true response\n",
    "    print(\"True\")\n",
    "else:\n",
    "    print(\"False\")"
   ]
  },
  {
   "cell_type": "markdown",
   "metadata": {},
   "source": [
    "# Problem 7)"
   ]
  },
  {
   "cell_type": "code",
   "execution_count": 14,
   "metadata": {
    "collapsed": false
   },
   "outputs": [
    {
     "name": "stdout",
     "output_type": "stream",
     "text": [
      "True\n"
     ]
    }
   ],
   "source": [
    "#imported the regular expressions to deal with characters of the alphabet with respect to grammar and other things\n",
    "import re\n",
    "\n",
    "'''Defined a function that takes a sentence as a parameter labeled sent and checks the letters in the\n",
    "string against the letters in the string defined as the abcList, for every hit the count goes up one \n",
    "starting at zero. Once the count gets to 26, one for every letter in the string abcList then the program will \n",
    "be understood as true'''\n",
    "\n",
    "def isPangram(sent):\n",
    "    \n",
    "    abcList = 'abcdefghijklmnopqrstuvwxyz' #defined the alphabet into a string labeled abcList\n",
    "    abcCount = 0 #initiated the count of the diff letters in the sentence to 0\n",
    " \n",
    "    #first we check to make sure the sentence being examined is long enough to accomodate the abcList by the len()\n",
    "    #built in function which checks the length of a string\n",
    "    if len(sent) < 26:\n",
    "        return False #if the string is less than 26 characters then it auotmatically recognizes it cannot be a pangram\n",
    "    else:\n",
    "    #if the word is >/= 26 then here we take the sentence and reshape it: \n",
    "        sent = re.sub('[^a-zA-Z]',\"\",sent) #by taking the letter out once we have examined it for all letters between a and z\n",
    "        sent = sent.lower() #here we make the sentence easiest to read since the abcList is in all lowercase so we change our string to be lower case\n",
    "\n",
    "        '''Begining of a for loop that takes all elements in the abcList as \"i\" and checks to see if that letter is\n",
    "in the sentence being examined, if it is the count goes up one.\n",
    "by the lines above we then move onto the next element in abcList that we havent used yet.\n",
    "This will ensure we only count each letter once.'''\n",
    "\n",
    "        for i in range(len(abcList)): #all characters in the string abcList will be used\n",
    "            if abcList[i] in sent: #if the character is in the sentence then the count goes up one\n",
    "                abcCount += 1\n",
    " \n",
    "        if abcCount == 26: #once the count = 26 we know the sentence is a pangram\n",
    "            return True\n",
    "        else:\n",
    "            return False\n",
    "        \n",
    "        \n",
    "sent = 'The quick brown fox jumps over the lazy dog'    #input sentence to be used (could easily change this to allow the user to input own sentence)    \n",
    "\n",
    "if (isPangram(sent)): #checking the sentence in the program isPangram, if the program yield true then this will print true\n",
    "    print (\"True\")\n",
    "else:\n",
    "    print (\"Flase\")\n",
    "                \n",
    "\n",
    "\n",
    "    \n",
    "    \n",
    " \n",
    "    "
   ]
  },
  {
   "cell_type": "markdown",
   "metadata": {},
   "source": [
    "Problem 8)"
   ]
  },
  {
   "cell_type": "code",
   "execution_count": 86,
   "metadata": {
    "collapsed": false
   },
   "outputs": [
    {
     "name": "stdout",
     "output_type": "stream",
     "text": [
      "99 bottles of coke on the wall, 99 bottles of coke.\n",
      " Take one down, pass it around, 98 bottles of coke on the wall \n",
      "98 bottles of coke on the wall, 98 bottles of coke.\n",
      " Take one down, pass it around, 97 bottles of coke on the wall \n",
      "97 bottles of coke on the wall, 97 bottles of coke.\n",
      " Take one down, pass it around, 96 bottles of coke on the wall \n",
      "96 bottles of coke on the wall, 96 bottles of coke.\n",
      " Take one down, pass it around, 95 bottles of coke on the wall \n",
      "95 bottles of coke on the wall, 95 bottles of coke.\n",
      " Take one down, pass it around, 94 bottles of coke on the wall \n",
      "94 bottles of coke on the wall, 94 bottles of coke.\n",
      " Take one down, pass it around, 93 bottles of coke on the wall \n",
      "93 bottles of coke on the wall, 93 bottles of coke.\n",
      " Take one down, pass it around, 92 bottles of coke on the wall \n",
      "92 bottles of coke on the wall, 92 bottles of coke.\n",
      " Take one down, pass it around, 91 bottles of coke on the wall \n",
      "91 bottles of coke on the wall, 91 bottles of coke.\n",
      " Take one down, pass it around, 90 bottles of coke on the wall \n",
      "90 bottles of coke on the wall, 90 bottles of coke.\n",
      " Take one down, pass it around, 89 bottles of coke on the wall \n",
      "89 bottles of coke on the wall, 89 bottles of coke.\n",
      " Take one down, pass it around, 88 bottles of coke on the wall \n",
      "88 bottles of coke on the wall, 88 bottles of coke.\n",
      " Take one down, pass it around, 87 bottles of coke on the wall \n",
      "87 bottles of coke on the wall, 87 bottles of coke.\n",
      " Take one down, pass it around, 86 bottles of coke on the wall \n",
      "86 bottles of coke on the wall, 86 bottles of coke.\n",
      " Take one down, pass it around, 85 bottles of coke on the wall \n",
      "85 bottles of coke on the wall, 85 bottles of coke.\n",
      " Take one down, pass it around, 84 bottles of coke on the wall \n",
      "84 bottles of coke on the wall, 84 bottles of coke.\n",
      " Take one down, pass it around, 83 bottles of coke on the wall \n",
      "83 bottles of coke on the wall, 83 bottles of coke.\n",
      " Take one down, pass it around, 82 bottles of coke on the wall \n",
      "82 bottles of coke on the wall, 82 bottles of coke.\n",
      " Take one down, pass it around, 81 bottles of coke on the wall \n",
      "81 bottles of coke on the wall, 81 bottles of coke.\n",
      " Take one down, pass it around, 80 bottles of coke on the wall \n",
      "80 bottles of coke on the wall, 80 bottles of coke.\n",
      " Take one down, pass it around, 79 bottles of coke on the wall \n",
      "79 bottles of coke on the wall, 79 bottles of coke.\n",
      " Take one down, pass it around, 78 bottles of coke on the wall \n",
      "78 bottles of coke on the wall, 78 bottles of coke.\n",
      " Take one down, pass it around, 77 bottles of coke on the wall \n",
      "77 bottles of coke on the wall, 77 bottles of coke.\n",
      " Take one down, pass it around, 76 bottles of coke on the wall \n",
      "76 bottles of coke on the wall, 76 bottles of coke.\n",
      " Take one down, pass it around, 75 bottles of coke on the wall \n",
      "75 bottles of coke on the wall, 75 bottles of coke.\n",
      " Take one down, pass it around, 74 bottles of coke on the wall \n",
      "74 bottles of coke on the wall, 74 bottles of coke.\n",
      " Take one down, pass it around, 73 bottles of coke on the wall \n",
      "73 bottles of coke on the wall, 73 bottles of coke.\n",
      " Take one down, pass it around, 72 bottles of coke on the wall \n",
      "72 bottles of coke on the wall, 72 bottles of coke.\n",
      " Take one down, pass it around, 71 bottles of coke on the wall \n",
      "71 bottles of coke on the wall, 71 bottles of coke.\n",
      " Take one down, pass it around, 70 bottles of coke on the wall \n",
      "70 bottles of coke on the wall, 70 bottles of coke.\n",
      " Take one down, pass it around, 69 bottles of coke on the wall \n",
      "69 bottles of coke on the wall, 69 bottles of coke.\n",
      " Take one down, pass it around, 68 bottles of coke on the wall \n",
      "68 bottles of coke on the wall, 68 bottles of coke.\n",
      " Take one down, pass it around, 67 bottles of coke on the wall \n",
      "67 bottles of coke on the wall, 67 bottles of coke.\n",
      " Take one down, pass it around, 66 bottles of coke on the wall \n",
      "66 bottles of coke on the wall, 66 bottles of coke.\n",
      " Take one down, pass it around, 65 bottles of coke on the wall \n",
      "65 bottles of coke on the wall, 65 bottles of coke.\n",
      " Take one down, pass it around, 64 bottles of coke on the wall \n",
      "64 bottles of coke on the wall, 64 bottles of coke.\n",
      " Take one down, pass it around, 63 bottles of coke on the wall \n",
      "63 bottles of coke on the wall, 63 bottles of coke.\n",
      " Take one down, pass it around, 62 bottles of coke on the wall \n",
      "62 bottles of coke on the wall, 62 bottles of coke.\n",
      " Take one down, pass it around, 61 bottles of coke on the wall \n",
      "61 bottles of coke on the wall, 61 bottles of coke.\n",
      " Take one down, pass it around, 60 bottles of coke on the wall \n",
      "60 bottles of coke on the wall, 60 bottles of coke.\n",
      " Take one down, pass it around, 59 bottles of coke on the wall \n",
      "59 bottles of coke on the wall, 59 bottles of coke.\n",
      " Take one down, pass it around, 58 bottles of coke on the wall \n",
      "58 bottles of coke on the wall, 58 bottles of coke.\n",
      " Take one down, pass it around, 57 bottles of coke on the wall \n",
      "57 bottles of coke on the wall, 57 bottles of coke.\n",
      " Take one down, pass it around, 56 bottles of coke on the wall \n",
      "56 bottles of coke on the wall, 56 bottles of coke.\n",
      " Take one down, pass it around, 55 bottles of coke on the wall \n",
      "55 bottles of coke on the wall, 55 bottles of coke.\n",
      " Take one down, pass it around, 54 bottles of coke on the wall \n",
      "54 bottles of coke on the wall, 54 bottles of coke.\n",
      " Take one down, pass it around, 53 bottles of coke on the wall \n",
      "53 bottles of coke on the wall, 53 bottles of coke.\n",
      " Take one down, pass it around, 52 bottles of coke on the wall \n",
      "52 bottles of coke on the wall, 52 bottles of coke.\n",
      " Take one down, pass it around, 51 bottles of coke on the wall \n",
      "51 bottles of coke on the wall, 51 bottles of coke.\n",
      " Take one down, pass it around, 50 bottles of coke on the wall \n",
      "50 bottles of coke on the wall, 50 bottles of coke.\n",
      " Take one down, pass it around, 49 bottles of coke on the wall \n",
      "49 bottles of coke on the wall, 49 bottles of coke.\n",
      " Take one down, pass it around, 48 bottles of coke on the wall \n",
      "48 bottles of coke on the wall, 48 bottles of coke.\n",
      " Take one down, pass it around, 47 bottles of coke on the wall \n",
      "47 bottles of coke on the wall, 47 bottles of coke.\n",
      " Take one down, pass it around, 46 bottles of coke on the wall \n",
      "46 bottles of coke on the wall, 46 bottles of coke.\n",
      " Take one down, pass it around, 45 bottles of coke on the wall \n",
      "45 bottles of coke on the wall, 45 bottles of coke.\n",
      " Take one down, pass it around, 44 bottles of coke on the wall \n",
      "44 bottles of coke on the wall, 44 bottles of coke.\n",
      " Take one down, pass it around, 43 bottles of coke on the wall \n",
      "43 bottles of coke on the wall, 43 bottles of coke.\n",
      " Take one down, pass it around, 42 bottles of coke on the wall \n",
      "42 bottles of coke on the wall, 42 bottles of coke.\n",
      " Take one down, pass it around, 41 bottles of coke on the wall \n",
      "41 bottles of coke on the wall, 41 bottles of coke.\n",
      " Take one down, pass it around, 40 bottles of coke on the wall \n",
      "40 bottles of coke on the wall, 40 bottles of coke.\n",
      " Take one down, pass it around, 39 bottles of coke on the wall \n",
      "39 bottles of coke on the wall, 39 bottles of coke.\n",
      " Take one down, pass it around, 38 bottles of coke on the wall \n",
      "38 bottles of coke on the wall, 38 bottles of coke.\n",
      " Take one down, pass it around, 37 bottles of coke on the wall \n",
      "37 bottles of coke on the wall, 37 bottles of coke.\n",
      " Take one down, pass it around, 36 bottles of coke on the wall \n",
      "36 bottles of coke on the wall, 36 bottles of coke.\n",
      " Take one down, pass it around, 35 bottles of coke on the wall \n",
      "35 bottles of coke on the wall, 35 bottles of coke.\n",
      " Take one down, pass it around, 34 bottles of coke on the wall \n",
      "34 bottles of coke on the wall, 34 bottles of coke.\n",
      " Take one down, pass it around, 33 bottles of coke on the wall \n",
      "33 bottles of coke on the wall, 33 bottles of coke.\n",
      " Take one down, pass it around, 32 bottles of coke on the wall \n",
      "32 bottles of coke on the wall, 32 bottles of coke.\n",
      " Take one down, pass it around, 31 bottles of coke on the wall \n",
      "31 bottles of coke on the wall, 31 bottles of coke.\n",
      " Take one down, pass it around, 30 bottles of coke on the wall \n",
      "30 bottles of coke on the wall, 30 bottles of coke.\n",
      " Take one down, pass it around, 29 bottles of coke on the wall \n",
      "29 bottles of coke on the wall, 29 bottles of coke.\n",
      " Take one down, pass it around, 28 bottles of coke on the wall \n",
      "28 bottles of coke on the wall, 28 bottles of coke.\n",
      " Take one down, pass it around, 27 bottles of coke on the wall \n",
      "27 bottles of coke on the wall, 27 bottles of coke.\n",
      " Take one down, pass it around, 26 bottles of coke on the wall \n",
      "26 bottles of coke on the wall, 26 bottles of coke.\n",
      " Take one down, pass it around, 25 bottles of coke on the wall \n",
      "25 bottles of coke on the wall, 25 bottles of coke.\n",
      " Take one down, pass it around, 24 bottles of coke on the wall \n",
      "24 bottles of coke on the wall, 24 bottles of coke.\n",
      " Take one down, pass it around, 23 bottles of coke on the wall \n",
      "23 bottles of coke on the wall, 23 bottles of coke.\n",
      " Take one down, pass it around, 22 bottles of coke on the wall \n",
      "22 bottles of coke on the wall, 22 bottles of coke.\n",
      " Take one down, pass it around, 21 bottles of coke on the wall \n",
      "21 bottles of coke on the wall, 21 bottles of coke.\n",
      " Take one down, pass it around, 20 bottles of coke on the wall \n",
      "20 bottles of coke on the wall, 20 bottles of coke.\n",
      " Take one down, pass it around, 19 bottles of coke on the wall \n",
      "19 bottles of coke on the wall, 19 bottles of coke.\n",
      " Take one down, pass it around, 18 bottles of coke on the wall \n",
      "18 bottles of coke on the wall, 18 bottles of coke.\n",
      " Take one down, pass it around, 17 bottles of coke on the wall \n",
      "17 bottles of coke on the wall, 17 bottles of coke.\n",
      " Take one down, pass it around, 16 bottles of coke on the wall \n",
      "16 bottles of coke on the wall, 16 bottles of coke.\n",
      " Take one down, pass it around, 15 bottles of coke on the wall \n",
      "15 bottles of coke on the wall, 15 bottles of coke.\n",
      " Take one down, pass it around, 14 bottles of coke on the wall \n",
      "14 bottles of coke on the wall, 14 bottles of coke.\n",
      " Take one down, pass it around, 13 bottles of coke on the wall \n",
      "13 bottles of coke on the wall, 13 bottles of coke.\n",
      " Take one down, pass it around, 12 bottles of coke on the wall \n",
      "12 bottles of coke on the wall, 12 bottles of coke.\n",
      " Take one down, pass it around, 11 bottles of coke on the wall \n",
      "11 bottles of coke on the wall, 11 bottles of coke.\n",
      " Take one down, pass it around, 10 bottles of coke on the wall \n",
      "10 bottles of coke on the wall, 10 bottles of coke.\n",
      " Take one down, pass it around, 9 bottles of coke on the wall \n",
      "9 bottles of coke on the wall, 9 bottles of coke.\n",
      " Take one down, pass it around, 8 bottles of coke on the wall \n",
      "8 bottles of coke on the wall, 8 bottles of coke.\n",
      " Take one down, pass it around, 7 bottles of coke on the wall \n",
      "7 bottles of coke on the wall, 7 bottles of coke.\n",
      " Take one down, pass it around, 6 bottles of coke on the wall \n",
      "6 bottles of coke on the wall, 6 bottles of coke.\n",
      " Take one down, pass it around, 5 bottles of coke on the wall \n",
      "5 bottles of coke on the wall, 5 bottles of coke.\n",
      " Take one down, pass it around, 4 bottles of coke on the wall \n",
      "4 bottles of coke on the wall, 4 bottles of coke.\n",
      " Take one down, pass it around, 3 bottles of coke on the wall \n",
      "3 bottles of coke on the wall, 3 bottles of coke.\n",
      " Take one down, pass it around, 2 bottles of coke on the wall \n",
      "2 bottles of coke on the wall, 2 bottles of coke.\n",
      " Take one down, pass it around, 1 bottles of coke on the wall \n",
      "1 bottles of coke on the wall, 1 bottles of coke.\n",
      " Take one down, pass it around, 0 bottles of coke on the wall \n"
     ]
    }
   ],
   "source": [
    "'''defined a function to take a range of numbers from 99 to 0\n",
    "subtracting one at certain times to give you the lyrics of the\n",
    "bottles of coke song (which eeryone knows is the bottle of beers song)'''\n",
    "\n",
    "def bottles_coke():\n",
    "    count = 99 #initialized the count at 99\n",
    "    for i in range(99,0,-1): #for all elements in the range of 99 to 0 counting down, the loop will print a combination of the count and words\n",
    "        print(str(count) + ' bottles of coke on the wall, ' + str(count) + ' bottles of coke.')   #str(count) makes the count a neat a legible number within the printed string\n",
    "        print (' Take one down, pass it around, ' + str(count-1) + ' bottles of coke on the wall ')\n",
    "        count -= 1 #after the loop completes one time the count will go down one from the top so 99 to 98, 98 to 97\n",
    "        \n",
    "bottles_coke()"
   ]
  },
  {
   "cell_type": "markdown",
   "metadata": {},
   "source": [
    "Problem 9)"
   ]
  },
  {
   "cell_type": "code",
   "execution_count": 6,
   "metadata": {
    "collapsed": false
   },
   "outputs": [
    {
     "name": "stdout",
     "output_type": "stream",
     "text": [
      "god jul och gott nytt år \n"
     ]
    }
   ],
   "source": [
    "#first defined a dictionary as the terms specified within the problem\n",
    "\n",
    "dictionary = {\"merry\":\"god\",\n",
    "              \"christmas\":\"jul\",\n",
    "              \"and\":\"och\",\n",
    "              \"happy\":\"gott\",\n",
    "              \"new\":\"nytt\",\n",
    "              \"year\":\"år\"}\n",
    " \n",
    "'''Defined a function translate with parameter string1\n",
    "it takes items in string one and if the words in the string are in \n",
    "the dictionary the method .get(i) retrieves the translation from the dictionary and \n",
    "stacks the words back into a string by adding all the components from the loop into the\n",
    "translatestring empty string defined before the loop started which is where the outcomes of the loop were placed'''    \n",
    "    \n",
    "def translate(string1):\n",
    "#defined an empty string named translatestring where the elements of the loop will be placed to recall later\n",
    "    translatestring = \"\" \n",
    "    \n",
    "    #begining of a for loop with a method to split each word in the string into seperate elements to be tested\n",
    "    #and then if those words are in the dictionary the method 'get' retrieves the translate word in the dictionary\n",
    "    for i in string1.split(\" \"):\n",
    "        #if the word is in the dictionary the loop kicks out the translated word with the anticipation of adding \n",
    "        #another word behind it until every word is accounted for in the original input string\n",
    "        if (str(dictionary.get(i))) != 'None':\n",
    "            translatestring = translatestring+str(dictionary.get(i))+\" \"\n",
    "       \n",
    "    #once the program reads that there are no more words in the string and the get method \n",
    "    #returns none, then the program will stop here\n",
    "        else:\n",
    "            translatestring = \"\"\n",
    "            return translatestring\n",
    "             \n",
    "    return translatestring\n",
    "\n",
    "#defined string1\n",
    "\n",
    "string1 = \"merry christmas and happy new year\"\n",
    "print(str(translate(string1)))\n",
    " "
   ]
  },
  {
   "cell_type": "markdown",
   "metadata": {},
   "source": [
    "Problem 10)"
   ]
  },
  {
   "cell_type": "code",
   "execution_count": 21,
   "metadata": {
    "collapsed": false
   },
   "outputs": [
    {
     "name": "stdout",
     "output_type": "stream",
     "text": [
      "abbabbdbabdbdbabababbcbab\n"
     ]
    },
    {
     "data": {
      "text/plain": [
       "{'a': 7, 'b': 14, 'c': 1, 'd': 3}"
      ]
     },
     "execution_count": 21,
     "metadata": {},
     "output_type": "execute_result"
    }
   ],
   "source": [
    "'''Defined a function that returns a string (string2) as a parameter in dictionary\n",
    "form where the totals of each letter in the string are accounted for'''\n",
    "\n",
    "def char_freq(string2):\n",
    "\n",
    "    #defined an empty dictionary\n",
    "\n",
    "    dictionary = {}\n",
    " \n",
    "    print(string2)\n",
    "     \n",
    "        '''Any element i in the length of string2 chosen will be examined in this loop\n",
    "        and then placed in the defined empty dictionary from earlier'''\n",
    "        \n",
    "    for i in range(len(string2)):\n",
    "#the loop takes every element and decides how to categorize them before entering it into the empty dictionary defined before\n",
    "#the first time a letter from the string is chosen it will go through the loop till it is placed in the dictionary with a total of 1 so far\n",
    "#then for every similar i in the sting to what is already in the dictionary will just add one to the total of what is already in the dictionary\n",
    "        if string2[i] in dictionary: \n",
    "            dictionary[string2[i]]= int(dictionary.get(string2[i]))+1\n",
    "        else:\n",
    "            dictionary[string2[i]]= 1\n",
    "#once every letter in the string is defined by the loop the loop restrats after placing the value in the dictionary\n",
    "    return dictionary\n",
    "\n",
    "char_freq(\"abbabbdbabdbdbabababbcbab\")"
   ]
  },
  {
   "cell_type": "markdown",
   "metadata": {},
   "source": [
    "Problem 11)"
   ]
  },
  {
   "cell_type": "code",
   "execution_count": 25,
   "metadata": {
    "collapsed": false
   },
   "outputs": [
    {
     "name": "stdout",
     "output_type": "stream",
     "text": [
      "Caesar cipher? I much prefer Caesar salad! \n"
     ]
    }
   ],
   "source": [
    "#coppied key from assignment to define the dictionary the function will use\n",
    "\n",
    "key = {'a':'n', 'b':'o', 'c':'p', 'd':'q', 'e':'r', 'f':'s', 'g':'t', 'h':'u', \n",
    "       'i':'v', 'j':'w', 'k':'x', 'l':'y', 'm':'z', 'n':'a', 'o':'b', 'p':'c', \n",
    "       'q':'d', 'r':'e', 's':'f', 't':'g', 'u':'h', 'v':'i', 'w':'j', 'x':'k',\n",
    "       'y':'l', 'z':'m', 'A':'N', 'B':'O', 'C':'P', 'D':'Q', 'E':'R', 'F':'S', \n",
    "       'G':'T', 'H':'U', 'I':'V', 'J':'W', 'K':'X', 'L':'Y', 'M':'Z', 'N':'A', \n",
    "       'O':'B', 'P':'C', 'Q':'D', 'R':'E', 'S':'F', 'T':'G', 'U':'H', 'V':'I', \n",
    "       'W':'J', 'X':'K', 'Y':'L', 'Z':'M'}\n",
    "\n",
    "'''defined a function that takes the words in\n",
    "the parameter string3 and figures out what the message \n",
    "actually says based on the predefined key'''\n",
    "\n",
    "def decode_encode(string3):\n",
    "    \n",
    "#defined a new version of string three that will be what is called after the loop translates string3 \n",
    "\n",
    "    newstring3 = \"\"\n",
    "\n",
    "    '''Start of a for loop that uses the method split to take each individual\n",
    "    word in the string and then a nested for loop will take those\n",
    "    individual words and test every letter within the split words against\n",
    "    the predefined key after each letter is processed the new character chosen from the key will be placed in the empty newstring3 string'''\n",
    "    \n",
    "    for word in string3.split(\" \"): #splits the string chosen into individual words based on spaces between letters\n",
    "        for j in range(len(word)): #for the newly split up string each letter in each word is defined\n",
    "            if word[j] in key:     #once the word is found in the key the translation from the key is added to the newstring3 empty string\n",
    "                newstring3 = newstring3+key[word[j]]\n",
    "            else: #if the letter is not in the key then it will just return the letter not found in the key form the original string3\n",
    "                newstring3 = newstring3+word[j]\n",
    "        newstring3 = newstring3+\" \" #here we add the spaces back inbetween the words to creat the fully translate (decoded) string\n",
    "    print(newstring3)\n",
    "             \n",
    "decode_encode('Pnrfne pvcure? V zhpu cersre Pnrfne fnynq!')        \n",
    "        "
   ]
  },
  {
   "cell_type": "markdown",
   "metadata": {},
   "source": [
    "Problem 12)"
   ]
  },
  {
   "cell_type": "code",
   "execution_count": 69,
   "metadata": {
    "collapsed": false
   },
   "outputs": [
    {
     "name": "stdout",
     "output_type": "stream",
     "text": [
      "This is very funny and cool. Indeed!  But you should. try this also\n"
     ]
    }
   ],
   "source": [
    "\n",
    "\"\"\"defined a function with parameters string4 that takes a string and checks it against\n",
    "the imported module of regular expressions within the function to fix spacing within the string\"\"\"\n",
    "\n",
    "def correct(inputString):\n",
    "    \n",
    "    import re #used module re for regualr expressions to test the string against the builtin for correct grammar and other things\n",
    "    \n",
    "    '''Here we are only focused on correcting the spacing related to punctuation and regular grammer\n",
    "    the module re has many more abilities then this but here we define the new string as the corrected\n",
    "    string that subtracts extra spacing from the string compared to the regular exoression first\n",
    "    then from the new corrected string it is corrected again for extra spacing after punctuation\n",
    "    before yielding the fully corrected statement based on these corrections with respect to the regualr\n",
    "    expressions built in the python'''\n",
    "    \n",
    "    correctedString = re.sub('\\ +',' ',inputString) #gets rid of extra spacing\n",
    "    correctedString = re.sub('\\.','. ',correctedString) #gets rid of extra spacing or no spacing after punctuation, basically anywhere there is a period it should be follwed by one space\n",
    "    correctedString = re.sub('\\!.', '!',correctedString)#gets rid of the extra period after the '!'\n",
    "    print(correctedString) #once both functions are carried out the new string is yielded\n",
    " \n",
    "    \n",
    "inputString = \"This   is  very funny  and    cool.Indeed!. But      you should.try  this also\"\n",
    " \n",
    "correct(inputString)\n"
   ]
  },
  {
   "cell_type": "markdown",
   "metadata": {},
   "source": [
    "# Problem 13)"
   ]
  },
  {
   "cell_type": "code",
   "execution_count": 39,
   "metadata": {
    "collapsed": false
   },
   "outputs": [
    {
     "name": "stdout",
     "output_type": "stream",
     "text": [
      "throws\n"
     ]
    }
   ],
   "source": [
    "import re\n",
    "\n",
    "def make_3sg_form(VerbWrd):\n",
    "\n",
    "    '''Simple else if statement that checks the last tetter of the input verb and\n",
    "depending on the ending assigns a new ending denoted by new form\n",
    "                -used the method ends with which will alow us to look at the last character in the string which\n",
    "                is necessary for the program we are trying to create'''\n",
    "\n",
    "    if VerbWrd.endswith('y'):\n",
    "        \n",
    "        #'new form' is the name I gave to be the 3rd person singular version of the input word\n",
    "        newform=VerbWrd[:-1] #first the rule with 'y' means dropping the y\n",
    "        newform=newform+'ies' #once the 'y' is dropped I added the appropiate ending\n",
    "        \n",
    "    #if that is not how the word ends the program continues to here and checks the ending for these next letters    \n",
    "    elif VerbWrd.endswith(('o','ch','s','sh','x','z')):\n",
    "        newform=VerbWrd+'es' #with this rule we do not need to drop any letters so we can just add the new string on\n",
    "    else:\n",
    "        newform=VerbWrd+'s' #if the word ends with ANY other letter we just slap a y on the end\n",
    " \n",
    "    print(newform) #once the program assigns the word, it will print the new form of the word\n",
    "make_3sg_form('throw')\n",
    " "
   ]
  },
  {
   "cell_type": "markdown",
   "metadata": {},
   "source": [
    "# Problem 14)"
   ]
  },
  {
   "cell_type": "code",
   "execution_count": 65,
   "metadata": {
    "collapsed": false
   },
   "outputs": [
    {
     "name": "stdout",
     "output_type": "stream",
     "text": [
      "seeing\n",
      "moving\n",
      "hugging\n",
      "lying\n"
     ]
    }
   ],
   "source": [
    "'''Defined a function that takes a word as a parameter and checks the ending of the words with the endswith() method\n",
    "replcing or adding the correct ending where ever the program determines the word fits'''\n",
    "\n",
    "def make_ing_form(wrd):\n",
    "    \n",
    "    #defined an empty string where we will place the word once it has been interpreted by the program\n",
    "        new_wrd = \"\"\n",
    "        excepts = ['be','see','flee','knee'] #defined the exception because we are dealing with the English language and nothing is simple\n",
    "        \n",
    "        #if the word chosen ends with ie :\n",
    "        if wrd.endswith(\"ie\"):\n",
    "                new_wrd = wrd[0:len(wrd)-2] + \"ying\" #we take the whole word from slot 0 to the length of the word minus the last two slots and then add \"ying\n",
    "                \n",
    "        elif wrd.endswith(\"e\") and i not in exception: #if the word doesnt end in ie but rather e, and IS NOT in the excepts list defined earlier\n",
    "                new_wrd = wrd[0:len(wrd)-1] + \"ing\"#then take all the length of the word minus the last character and add 'ing'\n",
    "                \n",
    "        elif wrd.endswith(\"e\"):#to deal with the excepts that were passed by the last statement we add this in to define the exceptions by keeping the ending and adding ing\n",
    "                new_wrd = wrd[0:len(wrd)-1] + wrd[-1] + \"ing\"\n",
    "        else:\n",
    "                new_wrd = wrd[0:len(wrd)]+wrd[-1] + \"ing\" #for all other endings i.e. consonants the word should add that letter and an ing\n",
    "        return new_wrd\n",
    "    \n",
    "    \n",
    "    \n",
    "print(make_ing_form('see'))\n",
    "print(make_ing_form('move'))\n",
    "print(make_ing_form('hug'))\n",
    "print(make_ing_form('lie'))\n",
    "\n",
    "\n"
   ]
  },
  {
   "cell_type": "code",
   "execution_count": null,
   "metadata": {
    "collapsed": true
   },
   "outputs": [],
   "source": []
  }
 ],
 "metadata": {
  "kernelspec": {
   "display_name": "Python 3",
   "language": "python",
   "name": "python3"
  },
  "language_info": {
   "codemirror_mode": {
    "name": "ipython",
    "version": 3
   },
   "file_extension": ".py",
   "mimetype": "text/x-python",
   "name": "python",
   "nbconvert_exporter": "python",
   "pygments_lexer": "ipython3",
   "version": "3.4.3"
  }
 },
 "nbformat": 4,
 "nbformat_minor": 0
}
