{
 "cells": [
  {
   "cell_type": "markdown",
   "metadata": {
    "collapsed": false
   },
   "source": [
    "Test 1: Python (perimeter function)"
   ]
  },
  {
   "cell_type": "code",
   "execution_count": 15,
   "metadata": {
    "collapsed": false
   },
   "outputs": [
    {
     "data": {
      "text/plain": [
       "8.0"
      ]
     },
     "execution_count": 15,
     "metadata": {},
     "output_type": "execute_result"
    }
   ],
   "source": [
    "'''Defined a function polygperim that takes a list of ordered pairs defined \n",
    "as \"coords\" and computes the distance between each ordered pair and adds them \n",
    "together to give a perimeter value for the list '''\n",
    "#need this to compute distance function with a sqrt in it\n",
    "import math\n",
    "\n",
    "def polygperim(coords):\n",
    "    #first need to be able to compute the distance between two points\n",
    "    #defined a function within the polygperim function \n",
    "    def distance(p1,p2):\n",
    "        #simple function using the distance formula for two points\n",
    "        return math.sqrt((p1[0]-p2[0])**2+(p1[1]-p2[1])**2)\n",
    "    #defined the coordinates to be used for the function polygperim\n",
    "    coords=[[0,0], [2,0], [2,2], [0,2]]\n",
    "    #initiated the perimeter to be 0 before the loop starts\n",
    "    perimeter=0\n",
    "    #defined the points to be used in a sequence of the \n",
    "    #coordinate being observed and the previous\n",
    "    points=coords + [coords[0]]\n",
    "    #begining of a for loop that takes all the list elements i within \n",
    "    #the length of the list of ordered pairs...\n",
    "    for i in range(len(coords)):\n",
    "        #with those ordered pairs it breaks them down into x and y coordinates \n",
    "        #and incorporates the distance function defined earlier to compute the\n",
    "        #distance between every set of ordered pairs \"i\" and \"i+1\" in the list\n",
    "        #and adds them together \n",
    "        perimeter += distance(points[i],points[i+1])\n",
    "    #once all pairs of list elements are used, we return the new perimeter\n",
    "    return perimeter\n",
    "#checking to make sure the program runs and works\n",
    "polygperim(coords)\n"
   ]
  },
  {
   "cell_type": "markdown",
   "metadata": {},
   "source": [
    "Test 1: Python (area function)"
   ]
  },
  {
   "cell_type": "code",
   "execution_count": 16,
   "metadata": {
    "collapsed": false
   },
   "outputs": [
    {
     "name": "stdout",
     "output_type": "stream",
     "text": [
      "4.0\n",
      "1.7320508075688772\n"
     ]
    }
   ],
   "source": [
    "'''defined a function polygarea that takes a \n",
    "list of ordered pairs labeled \"coords\" as a \n",
    "variable and returns the area inclosed by those \n",
    "point values within the list'''\n",
    "def polygarea(coords):\n",
    "    #initiated the area to be 0 within the function \n",
    "    #(we will add to this later in the for loop)\n",
    "    area = 0\n",
    "    #defined \"n\" as described in the test qurestion to be \n",
    "    #the number of coords in the list, or the \"length\" of the list of coords\n",
    "    n = len(coords)\n",
    "    #begining of a for loop that takes the elements (ordered pairs) in the \n",
    "    #range of what n was defined as (length of the list of coords)\n",
    "    for i in range(n):\n",
    "        #we difine v1 to be the first ordered pair chosen from the list of coords\n",
    "        v1 = coords[i]\n",
    "        #define v2 to be the very next ordered pair in the list\n",
    "        # '% n\" indicates that the loop should stop when there are no more \n",
    "        #ordered pairs in coords\n",
    "        v2 = coords[(i+1)% n]\n",
    "        #with these newly defined variables, it makes the area eqn easier to write\n",
    "        #here we take the new variables and implement the sumation we are instructed to use in two parts\n",
    "        #as the loop runs through the list of pairs, it breaks them down into there repective points and \n",
    "        #computes the greens summation (besides dividing by 2)\n",
    "        area += v1[0]*v2[1] - v1[1]*v2[0]\n",
    "    #when we return this new value we still need to divide by 2 which is on the outside of the summation so,\n",
    "    #we return the summation divided by two    \n",
    "    return abs(area/2)\n",
    "\n",
    "#defined coords to be used to compute the area of a square \n",
    "coords = [[0,0], [2,0], [2,2], [0,2]]\n",
    "#prints the answer of the area of a square defined by the ordered pairs within coords\n",
    "print(polygarea(coords))\n",
    "\n",
    "#defined a new set of coords to find the area of a equallateral triangle\n",
    "#the third ordered pair in the list was found by hand and inorder to write\n",
    "#the exact value of the y value, need to used the built in method math.sqrt\n",
    "#so python understands the value of that point\n",
    "coords = [[0,0],[2,0],[1,math.sqrt(3)]]\n",
    "#prints the value of the area of the equallateral traingle defined by the ordered pairs in coords\n",
    "print(polygarea(coords))"
   ]
  },
  {
   "cell_type": "code",
   "execution_count": null,
   "metadata": {
    "collapsed": true
   },
   "outputs": [],
   "source": []
  }
 ],
 "metadata": {
  "kernelspec": {
   "display_name": "Python 3",
   "language": "python",
   "name": "python3"
  },
  "language_info": {
   "codemirror_mode": {
    "name": "ipython",
    "version": 3
   },
   "file_extension": ".py",
   "mimetype": "text/x-python",
   "name": "python",
   "nbconvert_exporter": "python",
   "pygments_lexer": "ipython3",
   "version": "3.4.3"
  }
 },
 "nbformat": 4,
 "nbformat_minor": 0
}
