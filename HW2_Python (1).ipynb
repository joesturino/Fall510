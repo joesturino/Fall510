{
 "cells": [
  {
   "cell_type": "markdown",
   "metadata": {},
   "source": [
    "Problem 1)"
   ]
  },
  {
   "cell_type": "code",
   "execution_count": 43,
   "metadata": {
    "collapsed": false
   },
   "outputs": [
    {
     "name": "stdout",
     "output_type": "stream",
     "text": [
      "Fibonacci Numbers up to the number: 10\n",
      "1\n",
      "1\n",
      "2\n",
      "3\n",
      "5\n",
      "8\n",
      "That is all\n"
     ]
    }
   ],
   "source": [
    "def fib(n):  #defines the function \"fib\" of n\n",
    "    a, b = 0, 1   #with variables a and b = 0 and 1 respectively\n",
    "    \"\"\"The following while loop states:\n",
    "            while the value of b is < the stop point n, the program will produce a new integer b\n",
    "            values of b are determined by the updated variables within the loop\"\"\"\n",
    "    while b < n:  #all integers from 0 to n will yield a new 'b' in the sequence\n",
    "        yield b\n",
    "        a, b = b, a + b #this is where the function is updated to include the new values of b\n",
    "    else:\n",
    "        print('That is all') #once b is no longer < n, the program will print 'That is all'\n",
    "\n",
    "\n",
    "n = int(input(\"Fibonacci Numbers up to the number: \")) #allows for freedom of the user to input whatever value of 'n' they choose\n",
    "\n",
    "for n in fib(n): #prints all the values of the function fib(n) when n = whatever value is chosen by the user\n",
    "    print (n)\n"
   ]
“AW: should the output include 0? For example fib(10) should output 0,1,1,2,3,5,8”
  },
  {
   "cell_type": "markdown",
   "metadata": {},
   "source": [
    "Problem 2)"
   ]
  },
  {
   "cell_type": "code",
   "execution_count": 70,
   "metadata": {
    "collapsed": false
   },
   "outputs": [
    {
     "name": "stdout",
     "output_type": "stream",
     "text": [
      "value for x: 12\n",
      "value for y: 11\n",
      "The larger number is:  12\n"
     ]
    }
   ],
   "source": [
    "def mymax(x,y): #this is a function mymax with arguments x and y\n",
    "    x = int(input('value for x: ')) #the variable x is defined as an int that will be input by the user\n",
    "    y = int(input('value for y: ')) #same as the variable x\n",
    "    \n",
    "    '''start of an if-then-else statement with the intention of figuring out whih value chosen\n",
    "    by the user is larger when compatred together'''\n",
    "    \n",
    "    if y < x:  #if the value put in for x is bigger then y, then the program will return the value chosen for x when ran\n",
    "        return x\n",
    "    \n",
    "    #if that doesnt work program will jump to elif (else if)\n",
    "    \n",
    "    elif y == x: # if values enetered are equal, script will read that they are the same\n",
    "              print('neither, these numbers are the same') \n",
    "            \n",
    "    #after the program has run through if and elif with no success, it will jump to the final else  \n",
    "    #which says if the previous two fail the last option is y\n",
    "    else:\n",
    "        return y\n",
    "\n",
    "print('The larger number is: ', mymax(x,y)) #when the program is run, it will run the if-then-else loop and return a value within the function mymax\n",
    "\n",
    "        \n",
    "\n",
    "\n",
    "\n",
    "        "
   ]
  },
  {
   "cell_type": "markdown",
   "metadata": {},
   "source": [
    "Problem 3)"
   ]
  },
  {
   "cell_type": "code",
   "execution_count": 93,
   "metadata": {
    "collapsed": false
   },
   "outputs": [
    {
     "name": "stdout",
     "output_type": "stream",
     "text": [
      "210\n"
     ]
    }
   ],
   "source": [
    "def max_of_three(a,b,c): #defining function for max of three with three arguements (a,b,c)\n",
    "    Max = a #define initial argument to be the biggest\n",
    "    \n",
    "    '''in this if-else loop, by taking the initial arguement and comparing it to the other arguments,\n",
    "    we want to discover which of the three values is the largest'''\n",
    "    if b > Max: #this says if the arguemnt 'b' is greater than 'a' (the initial Max) \n",
    "        Max = b #then the new Max is b\n",
    "    elif c > Max: #if 'c' is greater than the Max, which at this point could be 'a' or 'b',\n",
    "        Max = c #then 'c' is the new Max\n",
    "        \n",
    "    #not sure I need this but better safe then sorry \n",
    "    #else is used to say that when the loop is done with all arguements, all that is left is the initial Max value of a\n",
    "    #so a is the final Max\n",
    "    else:\n",
    "        Max = a        \n",
    "    print(Max) #prints the determined max of three from the if-else loop\n",
    "        \n",
    "max_of_three(66,7,210) #summoning the program to run with arguments a=66, b=7, c=210\n",
    "\n",
    "    \n",
    "    \n",
    "    \n",
    "   "
   ]
  },
  {
   "cell_type": "markdown",
   "metadata": {},
   "source": [
    "Problem 4)"
   ]
  },
  {
   "cell_type": "code",
   "execution_count": 17,
   "metadata": {
    "collapsed": false
   },
   "outputs": [
    {
     "name": "stdout",
     "output_type": "stream",
     "text": [
      "[44, 55, 82, 11, 60, 7, 91, 100]\n",
      "8\n",
      "None\n"
     ]
    }
   ],
   "source": [
    "list1 = [44,55,82,11,60, 7, 91, 100] #defined a list labeld list1\n",
    "count = 0 #this may be redundant but I established that the count is initially 0 for the list\n",
    "print(list1) #added this in so it returns both the answer and the original list\n",
    "\n",
    "'''To clean it up i defined stuff earlier, not sure if that is right but it works so now I will define a function\n",
    "called mylen which will figure out the length of list 1 in this case'''\n",
    "\n",
    "def mylen(list1): \n",
    "    count=0 #again I established the count will initialize at 0\n",
    "    x=list1 #defined a variable x to describe the elements of x\n",
    "    \n",
    "    '''For loop designed to take the elements in list 1 and if x is an element the count will add one \n",
    "    until all the elements are acounted for in the loop'''\n",
    "    for x in list1: \n",
    "        count += 1 #here is where the count will increase by 1 if x is in the list\n",
    "    if x in list1: \n",
    "        #if there are elements in the list this will return the amount\n",
    "        print(count) \n",
    "        #otherwise it will return to the list and pick a new x to count\n",
    "    else:\n",
    "        return x\n",
    "        \n",
    "        \n",
    "print(mylen(list1))   #prints what the length of the list is through function mylen()      \n",
    "        \n",
    "\n",
    "                   \n",
    "    \n",
    "    \n",
    "    "
   ]
  },
  {
   "cell_type": "markdown",
   "metadata": {
    "collapsed": true
   },
   "source": [
    "Problem 5)"
   ]
  },
  {
   "cell_type": "code",
   "execution_count": 18,
   "metadata": {
    "collapsed": false
   },
   "outputs": [
    {
     "name": "stdout",
     "output_type": "stream",
     "text": [
      "Choose a single lowercase letter: b\n",
      "False\n"
     ]
    }
   ],
   "source": [
    "#defined a variable that allows the user to input a string \n",
    "#what this means is the user can input something like a letter which they need to do here\n",
    "\n",
    "letr= str(input('Choose a single lowercase letter: ')) \n",
    "  \n",
    "#simple if statement that allows the program to decifer whether the str input by the user is in the str including ('aeiou')\n",
    "\n",
    "if letr in ('a e i o u'):\n",
“AW: should we account for the upper case vowels?”
    "    print('True') #if letter input is a vowel it will return the statement true\n",
    "else:\n",
    "    print('False') #otherwise it will return false if the input is not in the str ('aeiou')\n",
    "    \n",
    "\n",
    "    \n",
    "    \n"
   ]
  },
  {
   "cell_type": "markdown",
   "metadata": {
    "collapsed": true
   },
   "source": [
    "Problem 6)"
   ]
  },
  {
   "cell_type": "code",
   "execution_count": null,
   "metadata": {
    "collapsed": false
   },
   "outputs": [],
   "source": [
    "wrd = 'all'\n",
    "\n",
    "def translate(wrd):\n", “AW: write function header comments (explaining what the function does, what the input parameters are, and what is returned) and in-line comments explaining logic. Should the upper case vowels be accounted for?”
    "    i = 0\n",
    "    for lets in wrd:\n",
    "        if wrd[0] != ('a', 'e', 'i', 'o', 'u'):\n",
    "            print(wrd[0]+ 'o' + wrd[0])\n",
    "            \n",
    "translate(wrd)                \n",
    "\n",
    "            \n",
    "            \n",
    "        \n",
    "     \n",
    "\n",
    "\n",
    "        \n",
    "    "
   ]
“AW: For your example, should ‘aoa’ ‘aoa’ ‘aoa’ be the output? Try other words”
  },
  {
   "cell_type": "markdown",
   "metadata": {},
   "source": [
    "Problem 7)"
   ]
  },
  {
   "cell_type": "code",
   "execution_count": 330,
   "metadata": {
    "collapsed": false
   },
   "outputs": [
    {
     "data": {
      "text/plain": [
       "10"
      ]
     },
     "execution_count": 330,
     "metadata": {},
     "output_type": "execute_result"
    }
   ],
   "source": [
    "\n",
    "\n",
    "def sum(list1): #defined a function that sums\n", “AW: write function header comments (explaining what the function does, what the input parameters are, and what is returned)”
    "    sum = 0 #establish that the sum is 0 before any loop is started\n",
    "    list1 = [1, 2, 3, 4] #defined list1 so the program will run requarding this list if 'list1 is summoned to be summed\n",
    "    \n",
    "    '''Start of a for loop that takes the elements in list1 and adds them together'''\n",
    "    \n",
    "    for x in list1:\n",
    "        sum = sum + x #this is the function that the program runs in the for loop to add the list elements together\n",
    "    return sum    #once all elements are added, the loop stops and returns the sum\n",
    "        \n",
    "\n",
    "sum(list1)\n",
    "    \n",
    "    \n",
    "    \n",
    "    \n",
    "\n"
   ]
“AW: missing multiply() assigned problem”
  },
  {
   "cell_type": "markdown",
   "metadata": {},
   "source": [
    "Problem 8)"
   ]
  },
  {
   "cell_type": "code",
   "execution_count": 89,
   "metadata": {
    "collapsed": false
   },
   "outputs": [
    {
     "data": {
      "text/plain": [
       "'koob'"
      ]
     },
     "execution_count": 89,
     "metadata": {},
     "output_type": "execute_result"
    }
   ],
   "source": [
    "def reverse(bkwd):  \n", “AW: write function header comments (explaining what the function does, what the input parameters are, and what is returned)”
    "    return bkwd[::-1] # this says take each element of the string starting from the last (-1) and stopping when the \n",
    "                        #last  letter is identified which is denoted by the double ':'\n",
    "\n",
    "reverse('book') #enetering a string denoted by '' allows the program to run because [::-1] is a function related to strings\n",
    "    \n",
    "    \n",
    "    "
   ]
  },
  {
   "cell_type": "markdown",
   "metadata": {},
   "source": [
    "Problem 9)"
   ]
  },
  {
   "cell_type": "code",
   "execution_count": 1,
   "metadata": {
    "collapsed": false
   },
   "outputs": [
    {
     "name": "stdout",
     "output_type": "stream",
     "text": [
      "True\n"
     ]
    }
   ],
   "source": [
    "def is_palindrome(wrd): #defined a function that takes a word and checks if its a palindrome\n",
    "    if wrd[0] != wrd[-1]: #if loop that takes the first letter of the first word compared to the last letter of the second word\n",
    "        print('False')    #followed by checking if the second and second to last are the same if the first comaprison is true\n",
    "    else:               #keeps going till it finds something not egual and then stops and yields 'false'\n",
    "        print('True') #if all comparisons are the same it then yields the answer 'true'\n",
    "    \n",
    "is_palindrome('dad')    #running the program"
   ]
“AW: although your code works for ‘dad’, it also works for words such as ‘ocho’ ‘avra’, etc but they are not palindromes. Write function header comments (explaining what the function does, what the input parameters are, and what is returned)””
  },
  {
   "cell_type": "markdown",
   "metadata": {},
   "source": [
    "Problem 10)"
   ]
  },
  {
   "cell_type": "code",
   "execution_count": 133,
   "metadata": {
    "collapsed": false
   },
   "outputs": [
    {
     "data": {
      "text/plain": [
       "'False'"
      ]
     },
     "execution_count": 133,
     "metadata": {},
     "output_type": "execute_result"
    }
   ],
   "source": [
    "def is_member (val, list2): #defined a function to check values against a list called list2\n",
    "    \n",
    "    '''Start of a for loop that checks the elements in list2 against a value chosen when running the program'''\n",
    "    \n",
    "    for ele in list2:     \n",
    "        if (ele == val): #says if the element, starting with the first is equal to the val chosen then it will return tru\n",
    "            return ('True') #it will keep looping until out of elements in list2 or a true is yielded\n",
    "    return ('False') #Have to have this outside the if loop so that it will loop through all elements in the list not just the first\n",
    "            \n",
    "list2 = [1, 2, 3, 66, 82, 90]            \n",
    "    \n",
    "is_member(7, list) \n",
    "    "
   ]
“AW: should your example read as is_member(7, list2)? Write function header comments (explaining what the function does, what the input parameters are, and what is returned) and in-line comments explaining logic”
  },
  {
   "cell_type": "markdown",
   "metadata": {},
   "source": [
    "Problem 11)"
   ]
  },
  {
   "cell_type": "code",
   "execution_count": null,
   "metadata": {
    "collapsed": false
   },
   "outputs": [],
   "source": [
    "list1 = [88, 22, 6, 1, 888, 361]\n",
    "list2 = [16, 22, 7, 9, 88, 4, 12]\n",
    "\n",
    "def overlapping(list1,list2):\n",
    "    for ele in list1:\n",
    "        if ele in list1 and list2:\n",
    "            return 'True'\n",
    "        for ele in list2:\n",
    "            if ele == list1 and list2:\n",
    "                return 'True'\n",
    "    return 'False'    \n",
    "            \n",
    "print(overlapping(list1,list2))"
   ]
“AW: write function header comments (explaining what the function does, what the input parameters are, and what is returned) and in-line comments explaining logic”
  },
  {
   "cell_type": "markdown",
   "metadata": {},
   "source": [
    "Problem 12)"
   ]
  },
  {
   "cell_type": "code",
   "execution_count": null,
   "metadata": {
    "collapsed": false
   },
   "outputs": [],
   "source": [
    "def gen_n_chars(n, c):\n",
    "    return n*'c'     \n",
    "\n",
    "print(gen_n_chars(3*'c'))\n", “AW: only 1 argument given here”
    "        "
   ]
“AW: how would you code without the * symbol? Write function header comments (explaining what the function does, what the input parameters are, and what is returned) and in-line comments explaining logic””
  },
  {
   "cell_type": "code",
   "execution_count": null,
   "metadata": {
    "collapsed": true
   },
   "outputs": [],
   "source": []
  }
 ],
 "metadata": {
  "kernelspec": {
   "display_name": "Python 3",
   "language": "python",
   "name": "python3"
  },
  "language_info": {
   "codemirror_mode": {
    "name": "ipython",
    "version": 3
   },
   "file_extension": ".py",
   "mimetype": "text/x-python",
   "name": "python",
   "nbconvert_exporter": "python",
   "pygments_lexer": "ipython3",
   "version": "3.4.3"
  }
 },
 "nbformat": 4,
 "nbformat_minor": 0
}
